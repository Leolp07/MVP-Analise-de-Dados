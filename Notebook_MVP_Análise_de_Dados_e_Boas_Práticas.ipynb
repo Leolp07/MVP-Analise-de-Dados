{
  "nbformat": 4,
  "nbformat_minor": 0,
  "metadata": {
    "colab": {
      "provenance": [],
      "toc_visible": true,
      "authorship_tag": "ABX9TyMmZocXw7rUK0whYHBG8/RS",
      "include_colab_link": true
    },
    "kernelspec": {
      "name": "python3",
      "display_name": "Python 3"
    },
    "language_info": {
      "name": "python"
    }
  },
  "cells": [
    {
      "cell_type": "markdown",
      "metadata": {
        "id": "view-in-github",
        "colab_type": "text"
      },
      "source": [
        "<a href=\"https://colab.research.google.com/github/Leolp07/MVP-Analise-de-Dados/blob/main/Notebook_MVP_An%C3%A1lise_de_Dados_e_Boas_Pr%C3%A1ticas.ipynb\" target=\"_parent\"><img src=\"https://colab.research.google.com/assets/colab-badge.svg\" alt=\"Open In Colab\"/></a>"
      ]
    },
    {
      "cell_type": "markdown",
      "source": [
        "# MVP - Análise de Dados e Boas Práticas\n",
        "---\n",
        "\n",
        "Aluno: Leonardo José Lopes da Silva\n",
        "\n",
        "Setembro de 2024\n",
        "\n",
        "## 1. Objetivos\n",
        "Este trabalho tem o objetivo de..."
      ],
      "metadata": {
        "id": "MpWNLCwQfo1t"
      }
    },
    {
      "cell_type": "code",
      "execution_count": 1,
      "metadata": {
        "id": "9PeUNi8XfPEm"
      },
      "outputs": [],
      "source": [
        "# Importação de dependências\n",
        "import pandas as pd\n",
        "import matplotlib.pyplot as plt\n"
      ]
    },
    {
      "cell_type": "markdown",
      "source": [
        "## 2. Dataset utilizado\n"
      ],
      "metadata": {
        "id": "a8PSiGpBsVXT"
      }
    },
    {
      "cell_type": "markdown",
      "source": [
        "## 3. Carga do Dataset"
      ],
      "metadata": {
        "id": "MR_oTfS2z6MO"
      }
    },
    {
      "cell_type": "code",
      "source": [
        "# GitHub raw URL ou Link Público do Drive\n",
        "url = 'https://raw.githubusercontent.com/your-username/your-repo/main/your-file.csv'\n",
        "\n",
        "# csv de uma URL\n",
        "df = pd.read_csv(url)\n",
        "\n",
        "# primeiras linhas\n",
        "df.head()"
      ],
      "metadata": {
        "id": "w3iQJqbr0DIy"
      },
      "execution_count": null,
      "outputs": []
    }
  ]
}